{
 "cells": [
  {
   "cell_type": "code",
   "execution_count": 2,
   "id": "edf72454-c021-4e31-8739-6d7e78e32ff8",
   "metadata": {},
   "outputs": [
    {
     "name": "stdout",
     "output_type": "stream",
     "text": [
      "<think>\n",
      "\n",
      "</think>\n",
      "\n",
      "Hello! How can I assist you today? 😊\n"
     ]
    }
   ],
   "source": [
    "import ollama\n",
    "\n",
    "# Load DeepSeek model and run inference\n",
    "response = ollama.chat(model=\"deepseek-r1:7b\", messages=[{\"role\": \"user\", \"content\": \"Hi there!\"}])\n",
    "\n",
    "# Print the response\n",
    "print(response[\"message\"][\"content\"])\n"
   ]
  }
 ],
 "metadata": {
  "kernelspec": {
   "display_name": "Python 3 (ipykernel)",
   "language": "python",
   "name": "python3"
  },
  "language_info": {
   "codemirror_mode": {
    "name": "ipython",
    "version": 3
   },
   "file_extension": ".py",
   "mimetype": "text/x-python",
   "name": "python",
   "nbconvert_exporter": "python",
   "pygments_lexer": "ipython3",
   "version": "3.11.11"
  }
 },
 "nbformat": 4,
 "nbformat_minor": 5
}
