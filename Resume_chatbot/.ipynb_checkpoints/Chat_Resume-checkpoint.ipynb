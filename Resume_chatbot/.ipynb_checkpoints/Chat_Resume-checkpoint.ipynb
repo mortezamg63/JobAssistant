{
 "cells": [
  {
   "cell_type": "code",
   "execution_count": 1,
   "metadata": {},
   "outputs": [],
   "source": [
    "from openai import OpenAI\n",
    "import os\n",
    "from dotenv import load_dotenv\n",
    "import gradio as gr\n",
    "\n",
    "load_dotenv()\n",
    "api_key = os.getenv('OPENAI_API_KEY')\n",
    "openai = OpenAI(api_key=api_key)"
   ]
  },
  {
   "cell_type": "code",
   "execution_count": 2,
   "metadata": {},
   "outputs": [
    {
     "name": "stdout",
     "output_type": "stream",
     "text": [
      "['Supervised-autoencoder_report.txt', 'Edge-Detection-Back-Propagation-ANN_report.txt', 'YOLO-Object-Detecton_report.txt', 'Detecting-and-Tracking-Vehicles_report.txt', 'Autoencoder_report.txt', 'awesome-long-tail-learning_report.txt', 'dlrm_report.txt', 'GenAI_report.txt', 'Texture-Segmentation-using-Gabor-Filters_report.txt', 'Accessing-and-modifying-different-layers-of-a-pretrained-model-in-pytorch_report.txt', 'DataScience_ML_Projects_report.txt', 'create_tfrecords_report.txt', 'resume.txt', 'Adaptive-Median-Filter_report.txt']\n"
     ]
    }
   ],
   "source": [
    "import os\n",
    "directory = 'reports'\n",
    "txt_files = [f for f in os.listdir(directory) if f.endswith('.txt')]\n",
    "print(txt_files)"
   ]
  },
  {
   "cell_type": "code",
   "execution_count": 3,
   "metadata": {},
   "outputs": [],
   "source": [
    "content = []\n",
    "\n",
    "for txt_file in txt_files:\n",
    "    with open(os.path.join(directory, txt_file), 'r') as file:\n",
    "        file_content = txt_file.split('.')[0].replace('_',' ')+\"\\n------------------\"+file.read()\n",
    "        content.append(file_content)\n",
    "\n",
    "# print(\"\\n\".join(content))\n"
   ]
  },
  {
   "cell_type": "code",
   "execution_count": null,
   "metadata": {},
   "outputs": [
    {
     "data": {
      "text/plain": [
       "19518"
      ]
     },
     "execution_count": 4,
     "metadata": {},
     "output_type": "execute_result"
    }
   ],
   "source": [
    "len(\"\\n\".join(content))"
   ]
  },
  {
   "cell_type": "code",
   "execution_count": 5,
   "metadata": {},
   "outputs": [],
   "source": [
    "system_prompt = \"You are a resume chatbot whose name is Mory Gharasuie. You are given a resume and you need to answer the questions based on the resume. \\n\\n\"\n",
    "system_prompt += \"Resume: \\n\\n\"\n",
    "system_prompt += \"\\n\".join(content)\n",
    "system_prompt += \"\\n you get the user question and you need to answer the question based on the resume. \\n\\n\"\n",
    "system_prompt += \"\\n\\n to answer the question, you extract the keywords from the resume and user questions and then answer the question based on the keywords. make sure you do not miss any information from the resume related to the user question. \\n\\n\"\n",
    "# prompt += \"\\n\\nQuestions: \\n\\n\"\n",
    "# prompt += \"1. What is the name of the person in the resume? \\n\"\n",
    "# prompt += \"2. What is the email of the person in the resume? \\n\"\n",
    "# prompt += \"3. What is the phone number of the person in the resume? \\n\""
   ]
  },
  {
   "cell_type": "code",
   "execution_count": 6,
   "metadata": {},
   "outputs": [],
   "source": [
    "user_prompt = \"\""
   ]
  },
  {
   "cell_type": "code",
   "execution_count": 7,
   "metadata": {},
   "outputs": [],
   "source": [
    "def chat(message,history):\n",
    "    messages = [{\"role\": \"system\", \"content\": system_prompt}] + history + [{\"role\": \"user\", \"content\": message}]\n",
    "    response = openai.chat.completions.create(model=\"gpt-4o-mini\", messages=messages)\n",
    "    return response.choices[0].message.content"
   ]
  },
  {
   "cell_type": "code",
   "execution_count": 8,
   "metadata": {},
   "outputs": [
    {
     "name": "stdout",
     "output_type": "stream",
     "text": [
      "* Running on local URL:  http://127.0.0.1:7860\n",
      "\n",
      "To create a public link, set `share=True` in `launch()`.\n"
     ]
    },
    {
     "data": {
      "text/html": [
       "<div><iframe src=\"http://127.0.0.1:7860/\" width=\"100%\" height=\"500\" allow=\"autoplay; camera; microphone; clipboard-read; clipboard-write;\" frameborder=\"0\" allowfullscreen></iframe></div>"
      ],
      "text/plain": [
       "<IPython.core.display.HTML object>"
      ]
     },
     "metadata": {},
     "output_type": "display_data"
    },
    {
     "data": {
      "text/plain": []
     },
     "execution_count": 8,
     "metadata": {},
     "output_type": "execute_result"
    }
   ],
   "source": [
    "gr.ChatInterface(chat, type=\"messages\").launch()"
   ]
  }
 ],
 "metadata": {
  "kernelspec": {
   "display_name": "llms",
   "language": "python",
   "name": "python3"
  },
  "language_info": {
   "codemirror_mode": {
    "name": "ipython",
    "version": 3
   },
   "file_extension": ".py",
   "mimetype": "text/x-python",
   "name": "python",
   "nbconvert_exporter": "python",
   "pygments_lexer": "ipython3",
   "version": "3.11.11"
  }
 },
 "nbformat": 4,
 "nbformat_minor": 2
}
