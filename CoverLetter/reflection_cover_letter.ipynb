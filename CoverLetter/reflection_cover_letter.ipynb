{
 "cells": [
  {
   "cell_type": "code",
   "execution_count": 1,
   "id": "9ee5b22a-2f9d-457b-aceb-76ca03a58346",
   "metadata": {},
   "outputs": [],
   "source": [
    "from langchain_core.prompts import ChatPromptTemplate, MessagesPlaceholder\n",
    "from langchain_openai import ChatOpenAI\n",
    "from dotenv import load_dotenv\n",
    "import os\n",
    "import matplotlib.pyplot as plt\n",
    "%matplotlib inline\n",
    "from typing import List, Sequence"
   ]
  },
  {
   "cell_type": "code",
   "execution_count": 2,
   "id": "f2e84531-b920-4b85-8dec-27e4b792d1e4",
   "metadata": {},
   "outputs": [
    {
     "data": {
      "text/plain": [
       "True"
      ]
     },
     "execution_count": 2,
     "metadata": {},
     "output_type": "execute_result"
    }
   ],
   "source": [
    "load_dotenv()"
   ]
  },
  {
   "cell_type": "code",
   "execution_count": 3,
   "id": "6a3dc5cc-e19e-41f7-930e-152592cc7785",
   "metadata": {},
   "outputs": [],
   "source": [
    "with open(\"resume.txt\", \"r\") as f:\n",
    "    myresume = f.read()\n",
    "\n",
    "with open(\"job_desc.txt\", \"r\") as f:\n",
    "    job_desc = f.read()\n",
    "\n",
    "\n"
   ]
  },
  {
   "cell_type": "code",
   "execution_count": 4,
   "id": "01ca4a2a-8c55-4b6e-99f3-c0262c848a77",
   "metadata": {},
   "outputs": [],
   "source": [
    "system_prompt = \"\"\"\n",
    "You are a highly skilled and professional assistant specialized in writing tailored, impactful cover letters for job applications. Your primary role is to generate personalized cover letters by analyzing both the user's resume and the specific job posting. You must ensure that each letter is aligned with the job requirements and company culture, and presents the candidate in the most compelling and authentic light.\n",
    "\n",
    "When crafting the cover letter, you must strictly adhere to the following principles:\n",
    "\n",
    "    Customization: Every cover letter must be uniquely tailored to the job and company. Do not use generic templates. Use insights from the job posting and company background to make the letter specific and relevant.\n",
    "\n",
    "    Alignment with Role & Culture: Clearly demonstrate how the user’s background, skills, and experience align with both the role and the company's mission, values, and culture.\n",
    "\n",
    "    Highlight Key Qualifications: Emphasize the user’s most relevant skills, achievements, and experiences that match the job description. Show measurable impact where possible.\n",
    "\n",
    "    Elaboration Beyond the Resume: Expand on important resume points with depth and context. Add personal insights that aren’t found in the resume.\n",
    "\n",
    "    Showcase Personality & Story: Let the user’s strengths, career motivations, and personality come through. Include meaningful anecdotes or brief stories that reflect their competencies and character.\n",
    "\n",
    "    Express Genuine Interest: Clearly communicate enthusiasm for the position and organization. Make it evident that the user has taken the time to learn about the company.\n",
    "\n",
    "    Professional Formatting: Format the letter like a formal business letter. Include contact information, date, a greeting, an opening paragraph, middle content, a closing paragraph, and a polite sign-off.\n",
    "\n",
    "    Clarity and Brevity: Keep the letter concise—ideally one page, using clear language and professional tone. Structure it into three core sections: introduction, body, and conclusion.\n",
    "\n",
    "    Strong Opening: Begin with a compelling paragraph that names the job title, source of the posting, and the reason for interest in the role and company.\n",
    "\n",
    "    Focused Body Paragraph(s): Provide a focused narrative on key skills and achievements. Use quantifiable results where applicable. Connect the user’s background with the job responsibilities.\n",
    "\n",
    "    Effective Closing: Summarize the user’s value proposition, restate interest, offer availability, and thank the reader for their time.\n",
    "\n",
    "    Professional Sign-off: End with a courteous and professional closing (e.g., “Sincerely”) followed by the user’s name.\n",
    "\n",
    "    Address Resume Concerns: Where applicable, briefly and professionally address employment gaps, career transitions, or other atypical aspects of the resume.\n",
    "\n",
    "    Proofreading: Your output must be free of grammar, punctuation, and spelling errors. Ensure clear, fluid, and natural English.\n",
    "\n",
    "You must act as a professional cover letter writer with a deep understanding of modern hiring practices and an ability to strategically present job candidates in the best possible light. Be informative, concise, persuasive, and precise.\n",
    "\n",
    "- Do **not invent** experiences, qualifications, or achievements that are not present in the resume.\n",
    "- All claims must be **grounded in the resume** and **relevant to the job description**.\n",
    "\n",
    "\"\"\"\n",
    "\n",
    "\n"
   ]
  },
  {
   "cell_type": "code",
   "execution_count": 5,
   "id": "760551cb-cdf2-4506-8ef6-1651f2be1d3b",
   "metadata": {},
   "outputs": [],
   "source": [
    "opening_paragraph_prompt = \"\"\"\n",
    "\n",
    "Here is my resume: {resume}\n",
    "\n",
    "here is the job description: {job_description}\n",
    "\n",
    "Please generate a compelling opening paragraph for their cover letter that makes a strong first impression and follows best practices.\n",
    "\n",
    "Your output must accomplish the following objectives:\n",
    "\n",
    "    Mention the specific job title the user is applying for and where the job posting was found (e.g., Indeed, LinkedIn, the company’s careers page).\n",
    "\n",
    "    Express genuine interest in the specific role and the company. Reflect the user’s understanding of the company’s mission, product, reputation, or goals to show they’ve done their research. Avoid generic language.\n",
    "\n",
    "    Introduce the candidate professionally, providing a concise summary of their background (e.g., years of experience, field of expertise, or industry).\n",
    "\n",
    "    Explain how the position aligns with the candidate’s career goals, showing thoughtfulness and long-term motivation.\n",
    "\n",
    "    If applicable, briefly acknowledge career transitions or employment gaps, including circumstances like COVID-related layoffs—but the focus should remain on enthusiasm and fit for the position.\n",
    "\n",
    "    Write in a way that quickly appeals to the hiring manager, keeping the tone enthusiastic, authentic, and professional.\n",
    "\n",
    "Examples to guide your tone and structure:\n",
    "\n",
    "    “I’m excited to apply for the [Job Title] position at [Company Name] I found on [Job Board]. I admire your work in [Company Specialty or Initiative], and I believe my background in [Relevant Experience] makes me a strong match. This role aligns perfectly with my goal to [Career Goal], and I’d be thrilled to contribute to your team.”\n",
    "\n",
    "    “I’m applying for the [Job Title] role at [Company Name], as advertised on [Job Platform]. With [X years] of experience in [Industry/Function], I bring a [mention one or two relevant strengths]. I'm passionate about [relevant motivation], and I see this opportunity as a natural next step in my career.”\n",
    "\n",
    "Use concise, engaging language and maintain a professional but approachable tone. Focus only on the opening paragraph of the cover letter.\"\"\""
   ]
  },
  {
   "cell_type": "code",
   "execution_count": 6,
   "id": "50ef67ba-1743-4031-8dfc-05c755af4050",
   "metadata": {},
   "outputs": [],
   "source": [
    "middle_paragraph_prompt = \"\"\"\n",
    "\n",
    "Here is my resume: {resume}\n",
    "\n",
    "here is the job description: {job_description}\n",
    "\n",
    "\n",
    "Please write the middle paragraph(s) of a cover letter. In this section, your primary goal is to showcase the candidate’s qualifications and achievements in a way that directly connects with the job requirements and the company’s needs.\n",
    "\n",
    "Your output must satisfy the following instructions:\n",
    "\n",
    "    Elaborate on relevant experience from the resume, going beyond repetition. Add meaningful context, describe the candidate’s role and contributions in past positions, and demonstrate their value through storytelling.\n",
    "\n",
    "    Highlight one or two key achievements or skills most relevant to the job. These should be specific, with measurable results where possible (e.g., “increased retention by 20%,” “led a cross-functional team of 8,” “reduced processing time by 40%”).\n",
    "\n",
    "    Use job description keywords naturally in your writing, especially those that match the user’s strengths and responsibilities. This improves relevance and helps the letter pass Applicant Tracking Systems (ATS).\n",
    "\n",
    "    Tie achievements and qualifications to company needs. Show how the candidate’s experience makes them a great match for the company’s role, values, mission, or industry challenges.\n",
    "\n",
    "    If applicable, clarify any career transitions or gaps professionally and briefly, especially if the gap extends beyond 6 months. If the candidate is transitioning careers, emphasize transferable skills and how they meet the requirements of the role.\n",
    "\n",
    "    Keep the content focused, engaging, and concise—typically no more than one or two short paragraphs.\n",
    "\n",
    "Example inspiration:\n",
    "\n",
    "    “In my most recent role as a data analyst at [Company], I led a project that automated the reporting pipeline, reducing processing time by 35% and enabling real-time analytics. My proficiency in Python, SQL, and Tableau aligns closely with the technical skills listed in your posting.”\n",
    "\n",
    "    “I’ve developed a strong foundation in project coordination through managing multi-phase software deployments for clients in healthcare. My ability to communicate effectively across teams and manage stakeholder expectations has been key to delivering solutions on time and under budget.”\n",
    "\n",
    "Your writing should be precise, professional, and results-oriented. This is the part of the letter where the candidate proves their value through evidence.\n",
    "\n",
    "Focus only on writing the middle paragraph(s) of the cover letter.\"\"\"\n"
   ]
  },
  {
   "cell_type": "code",
   "execution_count": 7,
   "id": "9102ff7c-f744-4561-9d5e-19fe8332e8c1",
   "metadata": {},
   "outputs": [],
   "source": [
    "closing_paragraph_prompt = \"\"\"\n",
    "\n",
    "Here is my resume: {resume}\n",
    "\n",
    "here is the job description: {job_description}\n",
    "\n",
    "Please  generate a strong closing paragraph that leaves a positive final impression and motivates the hiring manager to proceed with the candidate.\n",
    "\n",
    "Your output must include the following elements:\n",
    "\n",
    "    Summarize qualifications: Reiterate why the candidate is a strong fit for the position. Optionally, you may include one final achievement, strength, or anecdote not already covered in the body of the letter. If the user is transitioning careers, you may highlight transferable skills that align with the new role.\n",
    "\n",
    "    Express continued interest: Restate the user’s enthusiasm for the role and the company. Show eagerness to move forward in the process and interest in contributing to the team.\n",
    "\n",
    "    Indicate next steps and availability: Clearly state how the employer can reach the user (email and/or phone), and optionally mention availability for an interview or discussion.\n",
    "\n",
    "    Thank the reader: Politely thank the hiring manager for reviewing the application and considering the candidate.\n",
    "\n",
    "    Use a professional sign-off: End with a formal closing such as “Sincerely,” followed by the user’s full name.\n",
    "\n",
    "Tone and format: Keep the paragraph brief, positive, and professional. Aim for a tone that is confident yet humble, and inviting without being overly casual.\n",
    "\n",
    "Example inspiration:\n",
    "\n",
    "    “Thank you for taking the time to review my application. I’m excited about the opportunity to bring my skills in [relevant skill] to the [Company Name] team. I would welcome the chance to discuss this role further and can be reached at [email] or [phone]. I look forward to speaking with you. Sincerely, [Your Name]”\n",
    "\n",
    "    “My commitment to [relevant goal] and my background in [relevant experience] make me confident I can contribute meaningfully to your team. Thank you for considering my application. I’m eager to learn more about the [Job Title] role at [Company Name] and am available for an interview at your convenience. Sincerely, [Your Name]”\n",
    "\n",
    "Focus exclusively on generating the closing paragraph of the cover letter.\"\"\"\n"
   ]
  },
  {
   "cell_type": "code",
   "execution_count": 8,
   "id": "a5992f85-67ea-4911-aaa2-8b925a6017f1",
   "metadata": {},
   "outputs": [],
   "source": [
    "critique_prompt = \"\"\"\n",
    "You are an expert cover letter reviewer and career writing coach. Your task is to **critically evaluate** the following generated cover letter for clarity, relevance, professionalism, and alignment with the user's resume and the job description.\n",
    "\n",
    "Your critique must follow these guidelines:\n",
    "\n",
    "---\n",
    "\n",
    "**📌 Opening Paragraph:**\n",
    "- Does it mention the specific job title and where the job was found?\n",
    "- Does it express genuine interest in the company and role, showing evidence of research?\n",
    "- Does it briefly introduce the candidate and connect the role to their career goals?\n",
    "\n",
    "**📌 Middle Paragraph(s):**\n",
    "- Does it elaborate on relevant experiences from the resume (not just repeat them)?\n",
    "- Are specific, measurable achievements or examples provided?\n",
    "- Are keywords and skills from the job description used appropriately?\n",
    "- Is there a clear match between the candidate’s background and the company’s needs?\n",
    "- Are any transitions or gaps explained appropriately if relevant?\n",
    "\n",
    "**📌 Closing Paragraph:**\n",
    "- Does it restate the candidate’s interest and value clearly?\n",
    "- Does it include contact details and availability for next steps?\n",
    "- Is there a proper thank-you and professional sign-off?\n",
    "\n",
    "---\n",
    "\n",
    "**🚫 NO HALLUCINATIONS:**\n",
    "- Do **not invent** experiences, qualifications, or achievements that are not present in the resume.\n",
    "- All claims must be **grounded in the resume** and **relevant to the job description**.\n",
    "\n",
    "---\n",
    "\n",
    "**Your Task:**\n",
    "Provide a detailed critique of the cover letter. Highlight strengths, identify weaknesses, and suggest **specific, actionable revisions** that improve the letter’s alignment with the resume, job description, and professional standards.\n",
    "\n",
    "Here is the generated cover letter:\n",
    "-------------------------------\n",
    "{cover_letter}\n",
    "-------------------------------\n",
    "\n",
    "Begin your critique below:\n",
    "\"\"\""
   ]
  },
  {
   "cell_type": "code",
   "execution_count": 9,
   "id": "755cfa0b-19ee-4713-89ab-01ec5701f3b2",
   "metadata": {},
   "outputs": [],
   "source": [
    "generation_opening = ChatPromptTemplate.from_messages([\n",
    "    (\"system\", system_prompt),\n",
    "    (\"human\", opening_paragraph_prompt.format(resume=myresume, job_description=job_desc))\n",
    "])\n",
    "\n",
    "generation_middle = ChatPromptTemplate.from_messages([\n",
    "    (\"system\", system_prompt),\n",
    "    (\"human\", middle_paragraph_prompt.format(resume=myresume, job_description=job_desc))\n",
    "])\n",
    "\n",
    "generation_closing = ChatPromptTemplate.from_messages([\n",
    "    (\"system\", system_prompt),\n",
    "    (\"human\", closing_paragraph_prompt.format(resume=myresume, job_description=job_desc))\n",
    "])\n",
    "\n",
    "reflection_prompt = ChatPromptTemplate.from_messages([\n",
    "    (\"system\", system_prompt),\n",
    "    (\"human\",critique_prompt )\n",
    "])"
   ]
  },
  {
   "cell_type": "code",
   "execution_count": 10,
   "id": "6033fd4a-062b-48e8-9588-1d5ef716caf5",
   "metadata": {},
   "outputs": [],
   "source": [
    "\n",
    "\n",
    "# Create the chain\n",
    "llm=ChatOpenAI() # initializing LLM (gpt 3.5 turbo)\n",
    "generate_opening_chain = generation_opening | llm\n",
    "generate_middle_chain = generation_middle | llm\n",
    "generate_closing_chain = generation_closing | llm\n",
    "reflect_chain = reflection_prompt | llm\n",
    "\n"
   ]
  },
  {
   "cell_type": "markdown",
   "id": "eed7be07-c025-4ad0-ae3c-f76a1116c2c2",
   "metadata": {},
   "source": [
    "# Defining our LangGraph Graph\n"
   ]
  },
  {
   "cell_type": "code",
   "execution_count": 11,
   "id": "c26b15f1-bc08-4fe3-bb9f-713ebe0e0158",
   "metadata": {},
   "outputs": [],
   "source": [
    "from langchain_core.messages import BaseMessage, HumanMessage\n",
    "from langgraph.graph import END, MessageGraph"
   ]
  },
  {
   "cell_type": "code",
   "execution_count": 12,
   "id": "775835a1-d570-48d3-90cc-36f754773b93",
   "metadata": {},
   "outputs": [],
   "source": [
    "def generation_node_opening(state: Sequence[BaseMessage]):\n",
    "    return generate_opening_chain.invoke({\"messages\":state}) \n",
    "\n",
    "\n",
    "\n",
    "def generation_node_middle(state: Sequence[BaseMessage]):\n",
    "    return generate_middle_chain.invoke({\"messages\":state}) \n",
    "\n",
    "\n",
    "\n",
    "def generation_node_closing(state: Sequence[BaseMessage]):\n",
    "    result = generate_closing_chain.invoke({\"messages\":state}) \n",
    "    return result #{'cover_letter': result.content}\n",
    "\n",
    "def reflection_node(state: dict):#messages: Sequence[BaseMessage]):\n",
    "    # import pdb; pdb.set_trace()\n",
    "    cover_letter_text = state[-3].content+'\\n'+state[-2].content+'\\n'+state[-1].content\n",
    "    filled_prompt = critique_prompt.format(cover_letter=cover_letter_text)\n",
    "    return reflect_chain.invoke([HumanMessage(content=filled_prompt)])\n",
    "    "
   ]
  },
  {
   "cell_type": "code",
   "execution_count": 13,
   "id": "b6ba86ee-caaf-4582-9834-9a677f4692c7",
   "metadata": {},
   "outputs": [
    {
     "data": {
      "text/plain": [
       "<langgraph.graph.message.MessageGraph at 0x7108881d3410>"
      ]
     },
     "execution_count": 13,
     "metadata": {},
     "output_type": "execute_result"
    }
   ],
   "source": [
    "builder = MessageGraph()\n",
    "builder.add_node('gen_opening', generation_node_opening)\n",
    "builder.add_node('gen_middle', generation_node_middle)\n",
    "builder.add_node('gen_closing', generation_node_closing)\n",
    "builder.add_node('reflection', reflection_node)\n",
    "\n",
    "builder.set_entry_point('gen_opening')"
   ]
  },
  {
   "cell_type": "code",
   "execution_count": 14,
   "id": "3af6489c-6ba1-4542-a6c4-3cca15cb69f6",
   "metadata": {},
   "outputs": [
    {
     "data": {
      "text/plain": [
       "<langgraph.graph.message.MessageGraph at 0x7108881d3410>"
      ]
     },
     "execution_count": 14,
     "metadata": {},
     "output_type": "execute_result"
    }
   ],
   "source": [
    "def should_continue(state: List[BaseMessage]): # It's very simple reasoning\n",
    "    if len(state)>0:\n",
    "        return END\n",
    "    else:\n",
    "        return 'reflection'\n",
    "\n",
    "builder.add_edge('gen_opening', 'gen_middle')\n",
    "builder.add_edge('gen_middle', 'gen_closing')\n",
    "builder.add_conditional_edges('gen_closing', should_continue)\n",
    "builder.add_edge('reflection', 'gen_opening')"
   ]
  },
  {
   "cell_type": "code",
   "execution_count": 15,
   "id": "24822f80-5e9c-4a52-9af6-0080769c9938",
   "metadata": {},
   "outputs": [],
   "source": [
    "graph = builder.compile()"
   ]
  },
  {
   "cell_type": "code",
   "execution_count": 16,
   "id": "ce4f9acd-6435-4089-8195-a0ea1f6e4be7",
   "metadata": {},
   "outputs": [
    {
     "name": "stdout",
     "output_type": "stream",
     "text": [
      "%%{init: {'flowchart': {'curve': 'linear'}}}%%\n",
      "graph TD;\n",
      "\t__start__([<p>__start__</p>]):::first\n",
      "\tgen_opening(gen_opening)\n",
      "\tgen_middle(gen_middle)\n",
      "\tgen_closing(gen_closing)\n",
      "\treflection(reflection)\n",
      "\t__end__([<p>__end__</p>]):::last\n",
      "\t__start__ --> gen_opening;\n",
      "\tgen_middle --> gen_closing;\n",
      "\tgen_opening --> gen_middle;\n",
      "\treflection --> gen_opening;\n",
      "\tgen_closing -.-> gen_opening;\n",
      "\tgen_closing -.-> gen_middle;\n",
      "\tgen_closing -.-> reflection;\n",
      "\tgen_closing -.-> __end__;\n",
      "\tclassDef default fill:#f2f0ff,line-height:1.2\n",
      "\tclassDef first fill-opacity:0\n",
      "\tclassDef last fill:#bfb6fc\n",
      "\n",
      "                          +-----------+                          \n",
      "                          | __start__ |                          \n",
      "                          +-----------+                          \n",
      "                                *                                \n",
      "                                *                                \n",
      "                                *                                \n",
      "                        +-------------+                          \n",
      "                        | gen_opening |                          \n",
      "                      **+-------------+****                      \n",
      "                  ****          .          ****                  \n",
      "              ****              .              ****              \n",
      "           ***                  .                  ****          \n",
      "+------------+                 ..                      ***       \n",
      "| gen_middle |               ..                          *       \n",
      "+------------+             ..                            *       \n",
      "            ***          ..                              *       \n",
      "               *       ..                                *       \n",
      "                **   ..                                  *       \n",
      "            +-------------+                              *       \n",
      "            | gen_closing |...                           *       \n",
      "            +-------------+   ......                     *       \n",
      "                   .                ......               *       \n",
      "                   .                      ......         *       \n",
      "                   .                            ....     *       \n",
      "              +---------+                         +------------+ \n",
      "              | __end__ |                         | reflection | \n",
      "              +---------+                         +------------+ \n"
     ]
    }
   ],
   "source": [
    "\n",
    "\n",
    "# After writeing the graph, we can visualize it\n",
    "print(graph.get_graph().draw_mermaid())\n",
    "graph.get_graph().print_ascii()\n",
    "\n"
   ]
  },
  {
   "cell_type": "code",
   "execution_count": 17,
   "id": "6c119aea-65af-4944-b2e3-ac832949170f",
   "metadata": {},
   "outputs": [],
   "source": [
    "inputs = HumanMessage(content=\"\"\"Please write my cover letter w.r.t job description and my resume\"\"\")\n",
    "response = graph.invoke(inputs)"
   ]
  },
  {
   "cell_type": "code",
   "execution_count": 18,
   "id": "f8460a46-dfbe-4d53-9b11-e19ea8553cef",
   "metadata": {},
   "outputs": [
    {
     "name": "stdout",
     "output_type": "stream",
     "text": [
      "Subject: Application for Research Scientist Intern (Data-TnS-Algo)- 2025 Summer (PhD) at TikTok\n",
      "\n",
      "Dear Hiring Manager,\n",
      "\n",
      "I am thrilled to submit my application for the Research Scientist Intern (Data-TnS-Algo) position at TikTok, as recently discovered on the company's recruitment platform. TikTok's commitment to inspiring creativity and spreading joy resonates deeply with me, and I am truly excited about the opportunity to contribute to such a dynamic and innovative team.\n",
      "\n",
      "As a current PhD candidate in Computer Science at Old Dominion University with a research focus on Machine Learning, Computer Vision, and Natural Language Processing, I have developed a solid foundation in developing cutting-edge technologies to address real-world challenges. My experience as a Software Developer, combined with my role as a Research Assistant focusing on ML and DL models for classification problems, uniquely positions me to contribute effectively to TikTok's algorithm team's mission of enhancing user experience and safety.\n",
      "\n",
      "The prospect of collaborating with talented professionals at TikTok to develop state-of-the-art computer vision and multimodality models to protect the platform from inappropriate content is both exciting and aligned with my long-term career aspirations. I am particularly enthusiastic about exploring the application of Large Language Models in business scenarios, leveraging my expertise in LLM, Machine Learning, and NLP to propose optimized solutions that align with TikTok's goals.\n",
      "\n",
      "I am committed to continuous learning and growth, and I am eager to bring my expertise, creativity, and passion for innovation to TikTok. I am confident that my technical skills, collaborative nature, and drive to solve challenging problems make me a strong fit for this internship opportunity.\n",
      "\n",
      "Thank you for considering my application. I am looking forward to the possibility of contributing to the impactful work being done at TikTok and growing as part of your innovative team.\n",
      "\n",
      "Warm regards,\n",
      "\n",
      "Mory Gharasuie\n"
     ]
    }
   ],
   "source": [
    "print(response[1].content)"
   ]
  },
  {
   "cell_type": "code",
   "execution_count": null,
   "id": "20bea3ca-4886-4b99-a5f9-2326330f0161",
   "metadata": {},
   "outputs": [],
   "source": []
  }
 ],
 "metadata": {
  "kernelspec": {
   "display_name": "Python 3 (ipykernel)",
   "language": "python",
   "name": "python3"
  },
  "language_info": {
   "codemirror_mode": {
    "name": "ipython",
    "version": 3
   },
   "file_extension": ".py",
   "mimetype": "text/x-python",
   "name": "python",
   "nbconvert_exporter": "python",
   "pygments_lexer": "ipython3",
   "version": "3.11.11"
  }
 },
 "nbformat": 4,
 "nbformat_minor": 5
}
