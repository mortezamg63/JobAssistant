{
 "cells": [
  {
   "cell_type": "code",
   "execution_count": 47,
   "id": "3f5ad7a0-8d76-4511-96a0-3543bd07f8b0",
   "metadata": {},
   "outputs": [
    {
     "name": "stdout",
     "output_type": "stream",
     "text": [
      "Collecting python-docx\n",
      "  Downloading python_docx-1.1.2-py3-none-any.whl.metadata (2.0 kB)\n",
      "Collecting lxml>=3.1.0 (from python-docx)\n",
      "  Downloading lxml-5.3.1-cp311-cp311-manylinux_2_28_x86_64.whl.metadata (3.7 kB)\n",
      "Requirement already satisfied: typing-extensions>=4.9.0 in /home/mory/miniforge3/envs/llms/lib/python3.11/site-packages (from python-docx) (4.12.2)\n",
      "Downloading python_docx-1.1.2-py3-none-any.whl (244 kB)\n",
      "Downloading lxml-5.3.1-cp311-cp311-manylinux_2_28_x86_64.whl (5.0 MB)\n",
      "\u001b[2K   \u001b[38;2;114;156;31m━━━━━━━━━━━━━━━━━━━━━━━━━━━━━━━━━━━━━━━━\u001b[0m \u001b[32m5.0/5.0 MB\u001b[0m \u001b[31m4.9 MB/s\u001b[0m eta \u001b[36m0:00:00\u001b[0m[31m4.9 MB/s\u001b[0m eta \u001b[36m0:00:01\u001b[0m\n",
      "Installing collected packages: lxml, python-docx\n",
      "Successfully installed lxml-5.3.1 python-docx-1.1.2\n"
     ]
    }
   ],
   "source": [
    "# !pip install pymupdf\n",
    "# !pip install python-docx"
   ]
  },
  {
   "cell_type": "code",
   "execution_count": 37,
   "id": "03aba745-ff45-416e-ac22-5790667a89ca",
   "metadata": {},
   "outputs": [],
   "source": [
    "import fitz  # PyMuPDF\n",
    "import ollama # deepSeek and Ollama3\n",
    "from dotenv import load_dotenv\n",
    "from IPython.display import Markdown, display, update_display\n",
    "from openai import OpenAI\n",
    "import os\n",
    "from docx import Document\n",
    "from datetime import datetime\n",
    "import json\n",
    "from docx.shared import Inches\n",
    "from docx.oxml import OxmlElement\n",
    "import gradio as gr"
   ]
  },
  {
   "cell_type": "code",
   "execution_count": 2,
   "id": "892154c0-6881-4a83-bfa2-5df73f2a3ead",
   "metadata": {},
   "outputs": [
    {
     "name": "stdout",
     "output_type": "stream",
     "text": [
      "API key looks good so far\n"
     ]
    }
   ],
   "source": [
    "# Initialize and constants\n",
    "\n",
    "load_dotenv(override=True)\n",
    "api_key = os.getenv('OPENAI_API_KEY')\n",
    "\n",
    "if api_key and api_key.startswith('sk-proj-') and len(api_key)>10:\n",
    "    print(\"API key looks good so far\")\n",
    "else:\n",
    "    print(\"There might be a problem with your API key? Please visit the troubleshooting notebook!\")\n",
    "    \n",
    "MODEL = 'gpt-4o-mini'\n",
    "openai = OpenAI()"
   ]
  },
  {
   "cell_type": "code",
   "execution_count": 3,
   "id": "3f14987b-6de4-4ce4-a2c2-8fc0f7dc96fa",
   "metadata": {},
   "outputs": [],
   "source": [
    "def generate_prompt_deepSeek(job_description, resume_content):\n",
    "    prompt=f\"Act as a professional cover letter writer. I have extracted relevant details from a job description and my own background information. Your task is to generate a compelling, concise, and job-specific cover letter that highlights my qualifications, aligns with the job requirements, and conveys enthusiasm for the role. \\n\\n\"\n",
    "    \n",
    "    prompt += f\"### Job Description:\\n {job_description}\"\n",
    "    \n",
    "    prompt += f\"### My Information (Skills, Experience, and Background):\\n{resume_content}\\n\\n\"\n",
    "    \n",
    "    prompt += \"### Cover Letter Requirements:\\n\"\n",
    "    prompt += \"- Use a professional yet engaging tone.\\n\"\n",
    "    prompt += \"- Address the hiring manager appropriately if possible.\\n\"\n",
    "    prompt += \"- Keep the letter between 250-350 words.\\n\"\n",
    "    prompt += \"- Highlight my most relevant skills and achievements.\\n\"\n",
    "    prompt += \"- Explain why I am a great fit for this role.\\n\"\n",
    "    prompt += \"- End with a strong closing statement, including a call to action.\\n\\n\"\n",
    "    \n",
    "    prompt += \"Format the cover letter properly with:\\n\"\n",
    "    prompt += \"1. A professional salutation.\\n\"\n",
    "    prompt += \"2. An engaging opening paragraph.\\n\"\n",
    "    prompt += \"3. A detailed middle section showcasing my skills and experience.\\n\"\n",
    "    prompt += \"4. A strong closing paragraph.\\n\\n\"\n",
    "    \n",
    "    prompt += \"Provide the final cover letter in a polished andformat, ready for submission.\"\n",
    "    \n",
    "    return prompt\n"
   ]
  },
  {
   "cell_type": "code",
   "execution_count": 19,
   "id": "baf9f294-6520-4986-a15e-49bca8395222",
   "metadata": {},
   "outputs": [],
   "source": [
    "def generate_prompt_openAI(job_description, resume_content):\n",
    "    user_prompt=f\"Act as a professional cover letter writer. I have extracted relevant details from a job description and my own background information. Your task is to generate a compelling, concise, and job-specific cover letter that highlights my qualifications, aligns with the job requirements, and conveys enthusiasm for the role. \\n\\n\"\n",
    "    \n",
    "    user_prompt += f\"### Job Description:\\n {job_description}\"\n",
    "    \n",
    "    user_prompt += f\"### My Information (Skills, Experience, and Background):\\n{resume_content}\\n\\n\"\n",
    "    \n",
    "    user_prompt += \"### Cover Letter Requirements:\\n\"\n",
    "    user_prompt += \"- Use a professional yet engaging tone.\\n\"\n",
    "    user_prompt += \"- Address the hiring manager appropriately if possible.\\n\"\n",
    "    user_prompt += \"- Keep the letter between 250-350 words.\\n\"\n",
    "    user_prompt += \"- Highlight my most relevant skills and achievements.\\n\"\n",
    "    user_prompt += \"- Explain why I am a great fit for this role.\\n\"\n",
    "    user_prompt += \"- End with a strong closing statement, including a call to action.\\n\\n\"\n",
    "    \n",
    "    user_prompt += \"Format the cover letter properly with:\\n\"\n",
    "    user_prompt += \"1. A professional salutation.\\n\"\n",
    "    user_prompt += \"2. An engaging opening paragraph.\\n\"\n",
    "    user_prompt += \"3. A detailed middle section showcasing my skills and experience.\\n\"\n",
    "    user_prompt += \"4. A strong closing paragraph.\\n\\n\"\n",
    "    \n",
    "    user_prompt += \"Provide the final cover letter in a polished andformat, ready for submission.\"\n",
    "\n",
    "    system_prompt = \"\"\"\n",
    "    You are an expert cover letter writer with deep knowledge of professional communication, HR standards, and persuasive writing. Your task is to craft compelling, job-specific cover letters that align with the provided job description and the candidate's background information.\n",
    "\n",
    "    ### Guidelines:\n",
    "    - Write in a professional yet engaging tone.\n",
    "    - Ensure the letter is concise (250-350 words).\n",
    "    - Structure the letter into four key sections:\n",
    "      1. **Salutation** – Address the hiring manager if their name is known, or use a professional greeting.\n",
    "      2. **Introduction** – Capture attention with a strong opening that expresses enthusiasm for the role.\n",
    "      3. **Body** – Highlight the candidate's most relevant skills, experiences, and achievements that align with the job description.\n",
    "      4. **Closing** – Reinforce interest, mention how the candidate can contribute to the company, and include a call to action (e.g., requesting an interview).\n",
    "    - Avoid generic phrases—focus on personalization and specificity.\n",
    "    - Use active voice and impactful language.\n",
    "    - Format the response properly with clear paragraph breaks.\n",
    "    \n",
    "    ### Output Requirements:\n",
    "    - Return the cover letter in **JSON format**, following a structured layout for easy readability and usability.\n",
    "    - Each section of the cover letter should have a corresponding field in the JSON.\n",
    "    - Ensure no unnecessary repetition or filler content.\n",
    "    - Maintain professional formatting and appropriate line spacing.\n",
    "    \n",
    "    ### JSON Output Structure:\n",
    "    The response should follow this structured format:\n",
    "    ```json\n",
    "    {\n",
    "      \"applicant_name\": \"John Doe\",\n",
    "      \"applicant_address\": \"123 Main St, City, State, ZIP\",\n",
    "      \"applicant_phone\": \"(123) 456-7890\",\n",
    "      \"applican_email\": xyz@xyz.xyz\n",
    "      \"company_name\": \"XYZ Corporation\",\n",
    "      \"company_address\": \"456 Business Ave, City, State, ZIP\",\n",
    "      \"letter_to\": \"Hiring Manager\",\n",
    "      \"cover_letter_content\": {\n",
    "        \"salutation\": \"Dear Hiring Manager,\",\n",
    "        \"introduction\": \"I am excited to apply for the [Job Title] position at [Company Name]. With a strong background in [Your Key Skills or Experience], I am eager to contribute to your team.\",\n",
    "        \"body\": \"Throughout my career, I have successfully [Mention Relevant Experience or Achievements]. My expertise in [Relevant Skills] has enabled me to [Impactful Result]. I am particularly drawn to this opportunity because [Personalized Reason for Interest].\",\n",
    "        \"closing\": \"I would welcome the opportunity to discuss how my skills align with your needs. Thank you for your time and consideration. I look forward to your response.\"\n",
    "      }\n",
    "    }\n",
    "\n",
    "    \"\"\"\n",
    "\n",
    "    messages=[{\"role\": \"system\", \"content\": system_prompt}, {\"role\": \"user\", \"content\": user_prompt}]\n",
    "    \n",
    "    return messages\n"
   ]
  },
  {
   "cell_type": "code",
   "execution_count": 5,
   "id": "98549f06-8fdb-484c-b414-4c7ac5e3fec1",
   "metadata": {},
   "outputs": [],
   "source": [
    "def generate_coverLetter_deepSeek(job_description, resume_content):\n",
    "    # Load DeepSeek model and run inference\n",
    "    response = ollama.chat(model=\"deepseek-r1:7b\", messages=[{\"role\": \"user\", \"content\": generate_prompt(job_description, resume_content)}])\n",
    "    return response[\"message\"][\"content\"]"
   ]
  },
  {
   "cell_type": "code",
   "execution_count": 6,
   "id": "f5559ec9-b9e3-4cd8-bae7-46b29f19dffe",
   "metadata": {},
   "outputs": [],
   "source": [
    "def generate_coverLetter_openAI(job_description, resume_content):\n",
    "    # Load OpenAI and run inference\n",
    "    response = openai.chat.completions.create(\n",
    "            model=MODEL,\n",
    "            messages= generate_prompt_openAI(job_description, resume_content),\n",
    "            response_format={\"type\": \"json_object\"} # we tell OpenAI, we want Json object back in its response. OpenAI in its documentation recommend that it's still important that you mention in your prompt that a json response is required even if you specify format in this argument.\n",
    "        )\n",
    "    return response.choices[0].message.content "
   ]
  },
  {
   "cell_type": "code",
   "execution_count": 7,
   "id": "932bb032-bd8d-4bf0-a8a4-c9f19c7acb49",
   "metadata": {},
   "outputs": [],
   "source": [
    "def extract_text_pymupdf(pdf_path):\n",
    "    text = \"\"\n",
    "    doc = fitz.open(pdf_path)\n",
    "    for page in doc:\n",
    "        text += page.get_text()\n",
    "    return text\n",
    "\n",
    "pdf_file = \"/home/mory/Downloads/Mory_Gharasuie_resume25.pdf\"\n",
    "resume = extract_text_pymupdf(pdf_file)\n",
    "# print(extracted_text)\n",
    "\n",
    "with open('jobDesc.txt','r') as f:\n",
    "    jobDesc = f.readlines()"
   ]
  },
  {
   "cell_type": "code",
   "execution_count": 20,
   "id": "3c654b84-2389-49c3-b5c8-2ac8e3eba7e1",
   "metadata": {},
   "outputs": [
    {
     "name": "stdout",
     "output_type": "stream",
     "text": [
      "{'applicant_name': 'Mory Gharasuie', 'applicant_address': 'Norfolk, VA, USA', 'applicant_phone': '+1 757 287 1602', 'applicant_email': 'mmoha014@odu.edu', 'company_name': 'Zoetis', 'company_address': 'Kalamazoo, MI', 'letter_to': 'Hiring Manager', 'cover_letter_content': {'salutation': 'Dear Hiring Manager,', 'introduction': 'I am thrilled to apply for the Precision Animal Health Generative AI Internship at Zoetis. With a robust background in machine learning, deep learning, and natural language processing, I am eager to contribute to the innovative work your team is pursuing in the realm of animal health.', 'body': 'Currently a graduate student at Old Dominion University, my research involves developing applications that incorporate machine learning and computer vision tactics, focusing on enhancing model performance and mitigating bias in training data. My recent experience includes collaborating on a chatbot utilizing large language models, where I honed my skills in integrating NLP technologies and deploying machine learning solutions. I have proficiency in tools such as TensorFlow, Keras, and PyTorch, allowing me to build and refine models effectively. Moreover, my technical abilities include end-to-end solutions that fuse front-end interfaces with back-end systems, ensuring seamless user interaction—an integral part of the internship description. I’m particularly drawn to this internship because it aligns perfectly with my passion for utilizing AI to enhance operational efficiencies in agricultural settings, and I am excited about the possibility of facilitating better data accessibility through innovative technologies.', 'closing': 'I am enthusiastic about the opportunity to bring my skills in AI and data integration to the Zoetis team and help advance the mission of improving animal health through technology. I welcome the chance to discuss how I can contribute to your innovative projects. Thank you for your consideration; I look forward to hearing from you soon.'}}\n"
     ]
    }
   ],
   "source": [
    "# result = generate_coverLetter_deepSeek(jobDesc, resume)\n",
    "result = generate_coverLetter_openAI(jobDesc, resume)\n",
    "result = json.loads(result)\n",
    "print(result)"
   ]
  },
  {
   "cell_type": "code",
   "execution_count": 52,
   "id": "a42d479e-f0b6-49f0-91de-ca3c41ed9c1e",
   "metadata": {},
   "outputs": [],
   "source": [
    "def save_to_word(cover_letter_data, saveAddress):\n",
    "    # Updated JSON data including email\n",
    "    # cover_letter_data[\"applicant_email\"] = \"mmoha014@odu.edu\"\n",
    "    cover_letter_data = result\n",
    "    # Create a new Word document\n",
    "    doc = Document()\n",
    "    \n",
    "    # Header Section\n",
    "    header = doc.add_paragraph()\n",
    "    name_run = header.add_run(cover_letter_data[\"applicant_name\"])\n",
    "    name_run.bold = True\n",
    "    name_run.font.size = Pt(12)\n",
    "    \n",
    "    header.add_run(\" \" * 85)  # Create space between name and date\n",
    "    \n",
    "    date_run = header.add_run(datetime.today().strftime('%b %d, %Y'))\n",
    "    date_run.font.size = Pt(12)\n",
    "    header.alignment = WD_PARAGRAPH_ALIGNMENT.LEFT\n",
    "    \n",
    "    # Second line of header: Email and Phone\n",
    "    header2 = doc.add_paragraph()\n",
    "    email_run = header2.add_run(\"📧 \" + cover_letter_data[\"applicant_email\"] + \"  \")\n",
    "    email_run.font.size = Pt(12)\n",
    "    email_run.font.underline = False  # Make email look like a hyperlink\n",
    "    \n",
    "    phone_run = header2.add_run(\"📞 \" + cover_letter_data[\"applicant_phone\"])\n",
    "    phone_run.font.size = Pt(12)\n",
    "    header2.alignment = WD_PARAGRAPH_ALIGNMENT.LEFT\n",
    "    \n",
    "    # Insert a line to separate header from body\n",
    "    # doc.add_paragraph(\"\\n\")  # Spacing before the line\n",
    "    line = doc.add_paragraph()\n",
    "    line_run = line.add_run(\"_\" * 85)  # Creates a separator line\n",
    "    line.alignment = WD_PARAGRAPH_ALIGNMENT.LEFT\n",
    "    \n",
    "    \n",
    "    \n",
    "    # Company Name\n",
    "    doc.add_paragraph(cover_letter_data[\"company_name\"]).bold = True\n",
    "    \n",
    "    # Company Address\n",
    "    doc.add_paragraph(cover_letter_data[\"company_address\"]+\"\\n\")\n",
    "    \n",
    "    # Add space after line\n",
    "    # doc.add_paragraph(\"\\n\")\n",
    "    \n",
    "    # Salutation\n",
    "    doc.add_paragraph(cover_letter_data[\"cover_letter_content\"][\"salutation\"])\n",
    "    \n",
    "    # Introduction (Justified alignment)\n",
    "    intro_paragraph = doc.add_paragraph(cover_letter_data[\"cover_letter_content\"][\"introduction\"])\n",
    "    intro_paragraph.alignment = WD_PARAGRAPH_ALIGNMENT.JUSTIFY\n",
    "    \n",
    "    # Body (Justified alignment)\n",
    "    body_paragraph = doc.add_paragraph(cover_letter_data[\"cover_letter_content\"][\"body\"])\n",
    "    body_paragraph.alignment = WD_PARAGRAPH_ALIGNMENT.JUSTIFY\n",
    "    \n",
    "    # Closing (Justified alignment)\n",
    "    closing_paragraph = doc.add_paragraph(cover_letter_data[\"cover_letter_content\"][\"closing\"])\n",
    "    closing_paragraph.alignment = WD_PARAGRAPH_ALIGNMENT.JUSTIFY\n",
    "    \n",
    "    # Signature\n",
    "    doc.add_paragraph(\"\\nWarm regards,\\n\" + cover_letter_data[\"applicant_name\"])\n",
    "    \n",
    "    # Save the document\n",
    "    # file_path = \"outputs/Cover_Letter_With_Email.docx\"\n",
    "    doc.save(saveAddress)\n"
   ]
  },
  {
   "cell_type": "code",
   "execution_count": 63,
   "id": "d22beff1-d5f4-48ee-a257-5956b1e13308",
   "metadata": {},
   "outputs": [],
   "source": [
    "def json2Text(cover_letter_data):\n",
    "    # Convert JSON string to dictionary\n",
    "    # cover_letter_data = json.loads(cover_letter_json)\n",
    "    \n",
    "    # Get current date\n",
    "    current_date = datetime.today().strftime('%b %d, %Y')\n",
    "    \n",
    "    # Format the text-based cover letter\n",
    "    cover_letter_text = f\"\"\"\n",
    "    {cover_letter_data[\"applicant_name\"]:<40}{current_date}\n",
    "    \n",
    "    {cover_letter_data[\"applicant_email\"]}  📞 {cover_letter_data[\"applicant_phone\"]}\n",
    "    \n",
    "    {\"_\"*60}  # Separator line\n",
    "    \n",
    "    {cover_letter_data[\"company_name\"]}\n",
    "    {cover_letter_data[\"company_address\"]}\n",
    "    \n",
    "    {cover_letter_data[\"cover_letter_content\"][\"salutation\"]}\n",
    "    \n",
    "    {cover_letter_data[\"cover_letter_content\"][\"introduction\"]}\n",
    "    \n",
    "    {cover_letter_data[\"cover_letter_content\"][\"body\"]}\n",
    "    \n",
    "    {cover_letter_data[\"cover_letter_content\"][\"closing\"]}\n",
    "    \n",
    "    Warm regards,\n",
    "    {cover_letter_data[\"applicant_name\"]}\n",
    "    \"\"\"\n",
    "\n",
    "    return cover_letter_text\n"
   ]
  },
  {
   "cell_type": "code",
   "execution_count": 64,
   "id": "3457cd8b-17a7-4b26-9842-95ede237f9f4",
   "metadata": {},
   "outputs": [],
   "source": [
    "json_coverLetter = None\n",
    "def generate_cover_letter(resume_address, job_description):\n",
    "    resume_content = extract_text_pymupdf(resume_address)\n",
    "    result = generate_coverLetter_openAI(job_description, resume_content)\n",
    "    result = json.loads(result)\n",
    "    json_coverLetter = result\n",
    "    return json2Text(result)\n",
    "\n",
    "def save_coverLetter2Word(saveAddress):\n",
    "    try:\n",
    "        save_to_word(json_coverLetter, saveAddress)\n",
    "    except Exception as e:\n",
    "        return '❌ '+str(e)\n",
    "    return f\"😊 Cover letter saved successfully in {saveAddress} \"\n"
   ]
  },
  {
   "cell_type": "code",
   "execution_count": 65,
   "id": "0f389488-1edd-469a-a4ec-a197fd6f84d2",
   "metadata": {},
   "outputs": [
    {
     "name": "stdout",
     "output_type": "stream",
     "text": [
      "* Running on local URL:  http://127.0.0.1:7870\n",
      "\n",
      "To create a public link, set `share=True` in `launch()`.\n"
     ]
    },
    {
     "data": {
      "text/html": [
       "<div><iframe src=\"http://127.0.0.1:7870/\" width=\"100%\" height=\"500\" allow=\"autoplay; camera; microphone; clipboard-read; clipboard-write;\" frameborder=\"0\" allowfullscreen></iframe></div>"
      ],
      "text/plain": [
       "<IPython.core.display.HTML object>"
      ]
     },
     "metadata": {},
     "output_type": "display_data"
    },
    {
     "data": {
      "text/plain": []
     },
     "execution_count": 65,
     "metadata": {},
     "output_type": "execute_result"
    }
   ],
   "source": [
    "# Gradio UI\n",
    "with gr.Blocks() as demo:\n",
    "    gr.Markdown(\"## 📄 Cover Letter Generator ✉️\")\n",
    "    \n",
    "    resume_input = gr.File(label=\"Upload Resume (PDF/DOCX)\")\n",
    "    job_desc_input = gr.Textbox(label=\"Enter Job Description\", lines=5, placeholder=\"Paste job description here...\")\n",
    "    \n",
    "    generate_btn = gr.Button(\"Generate Cover Letter\")\n",
    "    cover_letter_output = gr.Textbox(label=\"Generated Cover Letter\", lines=10)\n",
    "\n",
    "    save_path_input = gr.Textbox(label=\"Enter Save Location (e.g., C:/Users/YourName/Documents/cover_letter.txt)\", placeholder=\"Enter full file path...\")\n",
    "    save_btn = gr.Button(\"Save Cover Letter\")\n",
    "    \n",
    "    save_status = gr.Textbox(label=\"Save Status\", interactive=False)\n",
    "\n",
    "    generate_btn.click(generate_cover_letter, inputs=[resume_input, job_desc_input], outputs=cover_letter_output)\n",
    "    save_btn.click(save_coverLetter2Word, inputs=[save_path_input], outputs=save_status)\n",
    "\n",
    "# Launch the Gradio app\n",
    "demo.launch()"
   ]
  },
  {
   "cell_type": "code",
   "execution_count": null,
   "id": "d088ccc6-b0a4-44be-ba6e-fe3be578d721",
   "metadata": {},
   "outputs": [],
   "source": [
    "# Gradio UI\n",
    "with gr.Blocks() as demo:\n",
    "    gr.Markdown(\"## 📄 Cover Letter Generator ✉️\")\n",
    "\n",
    "    resume_input = gr.File(label=\"Upload Resume (PDF/DOCX)\")\n",
    "    job_desc_input = gr.Textbox(label=\"Enter Job Description\", lines=5, placeholder=\"Paste job description here...\")\n",
    "\n",
    "    generate_btn = gr.Button(\"Generate Cover Letter\")\n",
    "    cover_letter_output = gr.Textbox(label=\"Generated Cover Letter\", lines=10)\n",
    "\n",
    "    save_path_input = gr.Textbox(label=\"Enter Save Location (e.g., C:/Users/YourName/Documents/cover_letter.txt)\", placeholder=\"Enter full file path...\")\n",
    "    save_btn = gr.Button(\"Save Cover Letter\")\n",
    "\n",
    "    save_status = gr.Textbox(label=\"Save Status\", interactive=False)\n",
    "\n",
    "    generate_btn.click(generate_cover_letter, inputs=[resume_input, job_desc_input], outputs=cover_letter_output)\n",
    "    save_btn.click(save_coverLetter2Word, inputs=[save_path_input], outputs=save_status)  # No need for cover_letter_output\n",
    "\n",
    "# Launch the Gradio app\n",
    "demo.launch()\n"
   ]
  },
  {
   "cell_type": "code",
   "execution_count": null,
   "id": "cf0cd907-ec6f-4f9e-a9eb-55a86e0723ca",
   "metadata": {},
   "outputs": [],
   "source": []
  }
 ],
 "metadata": {
  "kernelspec": {
   "display_name": "Python 3 (ipykernel)",
   "language": "python",
   "name": "python3"
  },
  "language_info": {
   "codemirror_mode": {
    "name": "ipython",
    "version": 3
   },
   "file_extension": ".py",
   "mimetype": "text/x-python",
   "name": "python",
   "nbconvert_exporter": "python",
   "pygments_lexer": "ipython3",
   "version": "3.11.11"
  }
 },
 "nbformat": 4,
 "nbformat_minor": 5
}
